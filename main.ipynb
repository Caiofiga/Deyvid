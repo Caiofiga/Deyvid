{
 "cells": [
  {
   "cell_type": "markdown",
   "metadata": {},
   "source": [
    "INGESTÃO DE DADOS"
   ]
  },
  {
   "cell_type": "code",
   "execution_count": null,
   "metadata": {},
   "outputs": [],
   "source": [
    "import pandas as pd\n",
    "\n",
    "\n",
    "# Carregar datasets\n",
    "file_paths = {\n",
    "    'admissions': 'csvs/ADMISSIONS.csv',\n",
    "    'microbiology_events': 'csvs/MICROBIOLOGYEVENTS.csv',\n",
    "    'prescriptions': 'csvs/PRESCRIPTIONS.csv',\n",
    "    'labevents': 'csvs/LABEVENTS.csv',\n",
    "    'diagnoses_icd': 'csvs/DIAGNOSES_ICD.csv',\n",
    "    'procedures_icd': 'csvs/PROCEDURES_ICD.csv',\n",
    "    'patients': 'csvs/PATIENTS.csv',\n",
    "    'icustays': 'csvs/ICUSTAYS.csv'\n",
    "}\n",
    "files = {}\n",
    "for name, path in file_paths.items():\n",
    "    try:\n",
    "        files[name] = pd.read_csv(path)\n",
    "    except FileNotFoundError:\n",
    "        print(f\"File not found: {path}\")\n",
    "\n",
    "\n",
    "# Filtrar dados relevantes\n",
    "microbiologia_filtered = files[\"microbiology_events\"][['row_id', 'subject_id', 'hadm_id', 'chartdate', 'charttime', \n",
    "           'spec_itemid', 'spec_type_desc', 'org_itemid', 'org_name', \n",
    "           'isolate_num', 'ab_itemid', 'ab_name', 'dilution_text', \n",
    "           'dilution_comparison', 'dilution_value', 'interpretation']] #done\n",
    "\n",
    "prescricoes_filtered = files[\"prescriptions\"][['subject_id', 'drug', 'enddate', ]]\n",
    "\n",
    "admicoes_filtered = files[\"admissions\"][['subject_id', 'admittime', 'dischtime', 'ethnicity', 'admission_type']] #done\n",
    "\n",
    "diagnosticos_filtered = files[\"diagnoses_icd\"][['subject_id', 'icd9_code', 'seq_num']] #done\n",
    "\n",
    "eventoslab_filtered = files[\"labevents\"][['subject_id', 'itemid', 'valuenum', 'valueuom', 'flag']] #done\n",
    "\n",
    "procedimentos_filtered = files[\"procedures_icd\"][['subject_id', 'icd9_code', 'seq_num']] #done\n",
    "\n",
    "pacientes_filtered = files[\"patients\"][['subject_id', 'gender', 'dob', 'dod']] #done?\n",
    "\n",
    "estadias_filtered = files[\"icustays\"][['subject_id', 'los', 'first_careunit', 'last_careunit']] #done\n",
    "\n",
    "# Realizar merge com base no subject_id \n",
    "merged_data = microbiologia_filtered.merge(prescricoes_filtered, on='subject_id', how='outer')\n",
    "merged_data = merged_data.merge(admicoes_filtered, on='subject_id', how='outer')\n",
    "merged_data = merged_data.merge(diagnosticos_filtered, on='subject_id', how='outer')\n",
    "merged_data = merged_data.merge(eventoslab_filtered, on='subject_id', how='outer')\n",
    "merged_data = merged_data.merge(procedimentos_filtered, on='subject_id', how='outer')\n",
    "merged_data = merged_data.merge(pacientes_filtered, on='subject_id', how='outer')\n",
    "merged_data = merged_data.merge(estadias_filtered, on='subject_id', how='outer')\n",
    "#converter para dataframe, e tratar dados\n",
    "merged_data_df = pd.DataFrame(merged_data)\n",
    "merged_data_df.drop_duplicates()\n",
    "merged_data_df.dropna()\n",
    "\n",
    "\n",
    "\n"
   ]
  },
  {
   "cell_type": "markdown",
   "metadata": {},
   "source": []
  },
  {
   "cell_type": "markdown",
   "metadata": {},
   "source": [
    "RESISTENCIA"
   ]
  },
  {
   "cell_type": "code",
   "execution_count": null,
   "metadata": {},
   "outputs": [],
   "source": [
    "# Identificar padrões de resistência\n",
    "resistance = merged_data[merged_data['interpretation'] == 'R']\n",
    "microbiologia_filtered = resistance[['ab_name', 'interpretation']]\n",
    "resistance = microbiologia_filtered.groupby(['ab_name', 'interpretation']).size().reset_index(name='counts')\n",
    "print(resistance)"
   ]
  },
  {
   "cell_type": "markdown",
   "metadata": {},
   "source": [
    "SUGESTAO "
   ]
  },
  {
   "cell_type": "code",
   "execution_count": 66,
   "metadata": {},
   "outputs": [],
   "source": [
    "def drug_suggestion(org_name, resistance):\n",
    "    if resistance == 'R':\n",
    "        return \"Sugestão de antibiótico alternativo\"\n",
    "    else:\n",
    "        return \"Sugestão de antibiótico padrão\"\n",
    "\n",
    "merged_data1['sugestao'] = merged_data1.apply(lambda x: drug_suggestion(x['org_name'], x['interpretation']), axis=1)\n"
   ]
  },
  {
   "cell_type": "markdown",
   "metadata": {},
   "source": [
    "FERRAMENTA VALIDAÇÃO"
   ]
  },
  {
   "cell_type": "code",
   "execution_count": null,
   "metadata": {},
   "outputs": [],
   "source": [
    "from sklearn.metrics import accuracy_score\n",
    "\n",
    "# Testar a ferramenta em um conjunto de dados de validação\n",
    "resultados_reais = merged_data1['antibiotico_real']\n",
    "sugestoes = merged_data1['sugestao']\n",
    "\n",
    "acuracia = accuracy_score(resultados_reais, sugestoes)\n",
    "print(f\"Acurácia da ferramenta: {acuracia}\")\n"
   ]
  }
 ],
 "metadata": {
  "kernelspec": {
   "display_name": "Python 3",
   "language": "python",
   "name": "python3"
  },
  "language_info": {
   "codemirror_mode": {
    "name": "ipython",
    "version": 3
   },
   "file_extension": ".py",
   "mimetype": "text/x-python",
   "name": "python",
   "nbconvert_exporter": "python",
   "pygments_lexer": "ipython3",
   "version": "3.12.7"
  }
 },
 "nbformat": 4,
 "nbformat_minor": 2
}
