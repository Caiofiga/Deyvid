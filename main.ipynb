{
 "cells": [
  {
   "cell_type": "markdown",
   "metadata": {},
   "source": [
    "INGESTÃO DE DADOS\n"
   ]
  },
  {
   "cell_type": "code",
   "execution_count": 13,
   "metadata": {},
   "outputs": [],
   "source": [
    "import pandas as pd\n",
    "import os\n",
    "\n",
    "file_paths = {\n",
    "    'admissions': 'rawcsvs/ADMISSIONS.csv',\n",
    "    'microbiology_events': 'rawcsvs/MICROBIOLOGYEVENTS.csv',\n",
    "    'prescriptions': 'rawcsvs/PRESCRIPTIONS.csv',\n",
    "    'labevents': 'rawcsvs/LABEVENTS.csv',\n",
    "    'diagnoses_icd': 'rawcsvs/DIAGNOSES_ICD.csv',\n",
    "    'patients': 'rawcsvs/PATIENTS.csv',\n",
    "    'transl-labitems': 'rawcsvs/D_LABITEMS.csv',\n",
    "    'transl-diag': 'rawcsvs/D_ICD_DIAGNOSES.csv'\n",
    "}\n",
    "\n",
    "cols_to_use = {\n",
    "    'admissions': ['subject_id','admittime','ethnicity', 'admission_type'],\n",
    "    'microbiology_events': ['row_id', 'subject_id',  'chartdate', 'charttime', 'spec_itemid', 'spec_type_desc', \n",
    "                            'org_itemid', 'org_name', 'isolate_num', 'ab_itemid', 'ab_name', 'dilution_text', \n",
    "                            'dilution_comparison', 'dilution_value', 'interpretation'],\n",
    "    'prescriptions': ['subject_id', \"hadm_id\", 'drug', 'enddate'],\n",
    "    'labevents': ['subject_id', 'itemid', 'valuenum', 'valueuom', 'flag'],\n",
    "    'diagnoses_icd': ['subject_id', 'icd9_code'], #gotta work on this one, adding all codes to one line in the array\n",
    "    'transl-labitems': ['itemid', 'label'], # use this in conjunction with labevents to understando wtf if happening\n",
    "    'patients': ['subject_id', 'gender'],\n",
    "    'transl-diag': ['icd9_code', 'short_title', 'long_title']\n",
    "}\n",
    "\n",
    "files = {}\n",
    "for file_path in file_paths:\n",
    "    files[file_path] = pd.read_csv(file_paths[file_path], usecols=cols_to_use[file_path])\n",
    "    \n",
    "for file_path, file in files.items(): \n",
    "    if  not file_path.startswith('transl'):\n",
    "        file.dropna(inplace=True, subset=['subject_id'])\n",
    "        file.drop_duplicates(inplace=True)  \n",
    "        file_name = os.path.basename(file_path)\n",
    "        file.to_csv(f'cleanedcsv/{file_name}.csv', index=False)"
   ]
  },
  {
   "cell_type": "markdown",
   "metadata": {},
   "source": [
    "MANEIRA PARA JUNTAR TODOS OS DADOS"
   ]
  },
  {
   "cell_type": "code",
   "execution_count": 2,
   "metadata": {},
   "outputs": [],
   "source": [
    "'''\n",
    "Isso esta feito para essas duas tabelas\n",
    "o modo nao mudou, precisa mudar as tabelas importadas, as colunas pivoteadas, e o valor de value, dependendo do que \n",
    "precisa ser pivoteado\n",
    "Agradeco Pedro por me dar a idea de pivotear as tabelas\n",
    "'''\n",
    "import pandas as pd\n",
    "mergedata = pd.read_csv('mergedcsv/admin-diag-lab-micro.csv')\n",
    "diagnoses = pd.read_csv('cleanedcsv/prescriptions.csv')\n",
    "\n",
    "\n",
    "#inverter a tabela de diagnósticos para ter uma linha por paciente\n",
    "\n",
    "diaginv = diagnoses.assign(value=1).pivot_table(\n",
    "    index='subject_id', \n",
    "    columns='drug', \n",
    "    values='value', \n",
    "    fill_value=0\n",
    ").reset_index()    # Reset the index to make `subject_id` a column\n",
    "\n",
    "diaginv.fillna(0, inplace=True)\n",
    "\n",
    "# Now proceed with the merge\n",
    "mergedata = mergedata.merge(diaginv, on='subject_id', how='left')\n",
    "mergedata.to_csv('mergedcsv/admin-diag-lab-micro-pat-prescrip.csv', index=False)\n",
    "\n",
    "\n"
   ]
  },
  {
   "cell_type": "markdown",
   "metadata": {},
   "source": [
    "EXTRACAO DE DADOS IMPORTANTES A BUSCA\n"
   ]
  },
  {
   "cell_type": "code",
   "execution_count": 3,
   "metadata": {},
   "outputs": [],
   "source": [
    "import Levenshtein\n",
    "#supunhetemos que tenhamos uma busca\n",
    "search = ab_name\n",
    "#precisamos listar todas as doencas em que o medicamento foi usado\n",
    "#para facilitar a busca, precisamos calcular o medicamento mais provavel que foi escrito\n",
    "all_drugs = files['microbiology_events']['ab_name'].dropna().unique()\n",
    "\n",
    "closest_drug = None\t\n",
    "for drug in all_drugs:\n",
    "    dist = Levenshtein.distance(search, drug)\n",
    "    if closest_drug is None or dist < closest_drug[1]:\n",
    "        closest_drug = (drug, dist)\n",
    "\n",
    "#agora que temos o medicamento mais provavel, podemos listar as resistencias\n",
    "\n"
   ]
  },
  {
   "cell_type": "markdown",
   "metadata": {},
   "source": [
    "Coletando os dados de resistencia\n"
   ]
  },
  {
   "cell_type": "code",
   "execution_count": null,
   "metadata": {},
   "outputs": [],
   "source": [
    "import plotly.express as px\n",
    "\n",
    "#need to sort he diseases\n",
    "diseases = files['microbiology_events'][files['microbiology_events']['ab_name'] == closest_drug[0]]['org_name'].unique()\n",
    "\n",
    "dis_res_count = {}\n",
    "for disease in diseases:\n",
    "    disease_res = files['microbiology_events'][\n",
    "        (files['microbiology_events']['ab_name'] == closest_drug[0]) & \n",
    "        (files['microbiology_events']['org_name'] == disease)\n",
    "    ]['interpretation']\n",
    "    \n",
    "    # Initialize counts for 'R', 'I', 'S'\n",
    "    counts = {'R': 0, 'I': 0, 'S': 0}\n",
    "    \n",
    "    counts.update(disease_res.value_counts().to_dict())\n",
    "    \n",
    "    dis_res_count[disease] = counts\n",
    "\n",
    "plot = px.bar(x=list(dis_res_count.keys()), y=[v['R'] for v in dis_res_count.values()])\n",
    "plot.show()    \n",
    "\n",
    "\n",
    "\n"
   ]
  },
  {
   "cell_type": "markdown",
   "metadata": {},
   "source": [
    "FODASSE O MODELO PREDITIVO\n"
   ]
  },
  {
   "cell_type": "code",
   "execution_count": 15,
   "metadata": {},
   "outputs": [
    {
     "name": "stdout",
     "output_type": "stream",
     "text": [
      " * Serving Flask app '__main__'\n",
      " * Debug mode: off\n"
     ]
    },
    {
     "name": "stderr",
     "output_type": "stream",
     "text": [
      "WARNING: This is a development server. Do not use it in a production deployment. Use a production WSGI server instead.\n",
      " * Running on http://127.0.0.1:5000\n",
      "Press CTRL+C to quit\n",
      "127.0.0.1 - - [11/Oct/2024 18:23:05] \"GET / HTTP/1.1\" 200 -\n",
      "127.0.0.1 - - [11/Oct/2024 18:23:05] \"GET /static/estilos.css HTTP/1.1\" 304 -\n",
      "127.0.0.1 - - [11/Oct/2024 18:23:05] \"GET /static/busca.js HTTP/1.1\" 304 -\n",
      "127.0.0.1 - - [11/Oct/2024 18:23:11] \"POST /busca HTTP/1.1\" 200 -\n",
      "127.0.0.1 - - [11/Oct/2024 18:23:12] \"POST /busca HTTP/1.1\" 200 -\n",
      "127.0.0.1 - - [11/Oct/2024 18:23:12] \"POST /busca HTTP/1.1\" 200 -\n",
      "127.0.0.1 - - [11/Oct/2024 18:23:13] \"POST /busca HTTP/1.1\" 200 -\n",
      "127.0.0.1 - - [11/Oct/2024 18:23:13] \"POST /busca HTTP/1.1\" 200 -\n",
      "127.0.0.1 - - [11/Oct/2024 18:23:13] \"POST /busca HTTP/1.1\" 200 -\n",
      "127.0.0.1 - - [11/Oct/2024 18:23:13] \"POST /busca HTTP/1.1\" 200 -\n",
      "127.0.0.1 - - [11/Oct/2024 18:23:14] \"POST /busca HTTP/1.1\" 200 -\n",
      "127.0.0.1 - - [11/Oct/2024 18:23:14] \"POST /busca HTTP/1.1\" 200 -\n",
      "127.0.0.1 - - [11/Oct/2024 18:23:14] \"POST /busca HTTP/1.1\" 200 -\n",
      "127.0.0.1 - - [11/Oct/2024 18:23:15] \"POST /busca HTTP/1.1\" 200 -\n",
      "127.0.0.1 - - [11/Oct/2024 18:24:00] \"GET /resposta HTTP/1.1\" 404 -\n",
      "127.0.0.1 - - [11/Oct/2024 18:24:04] \"POST /busca HTTP/1.1\" 200 -\n",
      "127.0.0.1 - - [11/Oct/2024 18:24:04] \"POST /busca HTTP/1.1\" 200 -\n",
      "127.0.0.1 - - [11/Oct/2024 18:24:04] \"POST /busca HTTP/1.1\" 200 -\n",
      "127.0.0.1 - - [11/Oct/2024 18:24:04] \"POST /busca HTTP/1.1\" 200 -\n",
      "127.0.0.1 - - [11/Oct/2024 18:24:05] \"POST /busca HTTP/1.1\" 200 -\n"
     ]
    },
    {
     "ename": "AssertionError",
     "evalue": "View function mapping is overwriting an existing endpoint function: home",
     "output_type": "error",
     "traceback": [
      "\u001b[1;31m---------------------------------------------------------------------------\u001b[0m",
      "\u001b[1;31mAssertionError\u001b[0m                            Traceback (most recent call last)",
      "Cell \u001b[1;32mIn[15], line 39\u001b[0m\n\u001b[0;32m     36\u001b[0m     \u001b[38;5;28;01mreturn\u001b[39;00m closest_drug\n\u001b[0;32m     38\u001b[0m \u001b[38;5;66;03m# Rota para a página secundaria (resposta)\u001b[39;00m\n\u001b[1;32m---> 39\u001b[0m \u001b[38;5;129;43m@app\u001b[39;49m\u001b[38;5;241;43m.\u001b[39;49m\u001b[43mroute\u001b[49m\u001b[43m(\u001b[49m\u001b[38;5;124;43m'\u001b[39;49m\u001b[38;5;124;43m/resposta\u001b[39;49m\u001b[38;5;124;43m'\u001b[39;49m\u001b[43m)\u001b[49m\n\u001b[0;32m     40\u001b[0m \u001b[38;5;28;43;01mdef\u001b[39;49;00m\u001b[43m \u001b[49m\u001b[38;5;21;43mhome\u001b[39;49m\u001b[43m(\u001b[49m\u001b[43m)\u001b[49m\u001b[43m:\u001b[49m\n\u001b[0;32m     41\u001b[0m \u001b[43m    \u001b[49m\u001b[38;5;28;43;01mglobal\u001b[39;49;00m\u001b[43m \u001b[49m\u001b[43mdroga\u001b[49m\n\u001b[0;32m     42\u001b[0m \u001b[43m    \u001b[49m\u001b[38;5;28;43;01mif\u001b[39;49;00m\u001b[43m \u001b[49m\u001b[43mdroga\u001b[49m\u001b[43m \u001b[49m\u001b[38;5;129;43;01mis\u001b[39;49;00m\u001b[43m \u001b[49m\u001b[38;5;129;43;01mnot\u001b[39;49;00m\u001b[43m \u001b[49m\u001b[38;5;28;43;01mNone\u001b[39;49;00m\u001b[43m:\u001b[49m\n",
      "File \u001b[1;32mc:\\Users\\bitan\\AppData\\Local\\Programs\\Python\\Python312\\Lib\\site-packages\\flask\\sansio\\scaffold.py:362\u001b[0m, in \u001b[0;36mScaffold.route.<locals>.decorator\u001b[1;34m(f)\u001b[0m\n\u001b[0;32m    360\u001b[0m \u001b[38;5;28;01mdef\u001b[39;00m \u001b[38;5;21mdecorator\u001b[39m(f: T_route) \u001b[38;5;241m-\u001b[39m\u001b[38;5;241m>\u001b[39m T_route:\n\u001b[0;32m    361\u001b[0m     endpoint \u001b[38;5;241m=\u001b[39m options\u001b[38;5;241m.\u001b[39mpop(\u001b[38;5;124m\"\u001b[39m\u001b[38;5;124mendpoint\u001b[39m\u001b[38;5;124m\"\u001b[39m, \u001b[38;5;28;01mNone\u001b[39;00m)\n\u001b[1;32m--> 362\u001b[0m     \u001b[38;5;28;43mself\u001b[39;49m\u001b[38;5;241;43m.\u001b[39;49m\u001b[43madd_url_rule\u001b[49m\u001b[43m(\u001b[49m\u001b[43mrule\u001b[49m\u001b[43m,\u001b[49m\u001b[43m \u001b[49m\u001b[43mendpoint\u001b[49m\u001b[43m,\u001b[49m\u001b[43m \u001b[49m\u001b[43mf\u001b[49m\u001b[43m,\u001b[49m\u001b[43m \u001b[49m\u001b[38;5;241;43m*\u001b[39;49m\u001b[38;5;241;43m*\u001b[39;49m\u001b[43moptions\u001b[49m\u001b[43m)\u001b[49m\n\u001b[0;32m    363\u001b[0m     \u001b[38;5;28;01mreturn\u001b[39;00m f\n",
      "File \u001b[1;32mc:\\Users\\bitan\\AppData\\Local\\Programs\\Python\\Python312\\Lib\\site-packages\\flask\\sansio\\scaffold.py:47\u001b[0m, in \u001b[0;36msetupmethod.<locals>.wrapper_func\u001b[1;34m(self, *args, **kwargs)\u001b[0m\n\u001b[0;32m     45\u001b[0m \u001b[38;5;28;01mdef\u001b[39;00m \u001b[38;5;21mwrapper_func\u001b[39m(\u001b[38;5;28mself\u001b[39m: Scaffold, \u001b[38;5;241m*\u001b[39margs: t\u001b[38;5;241m.\u001b[39mAny, \u001b[38;5;241m*\u001b[39m\u001b[38;5;241m*\u001b[39mkwargs: t\u001b[38;5;241m.\u001b[39mAny) \u001b[38;5;241m-\u001b[39m\u001b[38;5;241m>\u001b[39m t\u001b[38;5;241m.\u001b[39mAny:\n\u001b[0;32m     46\u001b[0m     \u001b[38;5;28mself\u001b[39m\u001b[38;5;241m.\u001b[39m_check_setup_finished(f_name)\n\u001b[1;32m---> 47\u001b[0m     \u001b[38;5;28;01mreturn\u001b[39;00m \u001b[43mf\u001b[49m\u001b[43m(\u001b[49m\u001b[38;5;28;43mself\u001b[39;49m\u001b[43m,\u001b[49m\u001b[43m \u001b[49m\u001b[38;5;241;43m*\u001b[39;49m\u001b[43margs\u001b[49m\u001b[43m,\u001b[49m\u001b[43m \u001b[49m\u001b[38;5;241;43m*\u001b[39;49m\u001b[38;5;241;43m*\u001b[39;49m\u001b[43mkwargs\u001b[49m\u001b[43m)\u001b[49m\n",
      "File \u001b[1;32mc:\\Users\\bitan\\AppData\\Local\\Programs\\Python\\Python312\\Lib\\site-packages\\flask\\sansio\\app.py:657\u001b[0m, in \u001b[0;36mApp.add_url_rule\u001b[1;34m(self, rule, endpoint, view_func, provide_automatic_options, **options)\u001b[0m\n\u001b[0;32m    655\u001b[0m old_func \u001b[38;5;241m=\u001b[39m \u001b[38;5;28mself\u001b[39m\u001b[38;5;241m.\u001b[39mview_functions\u001b[38;5;241m.\u001b[39mget(endpoint)\n\u001b[0;32m    656\u001b[0m \u001b[38;5;28;01mif\u001b[39;00m old_func \u001b[38;5;129;01mis\u001b[39;00m \u001b[38;5;129;01mnot\u001b[39;00m \u001b[38;5;28;01mNone\u001b[39;00m \u001b[38;5;129;01mand\u001b[39;00m old_func \u001b[38;5;241m!=\u001b[39m view_func:\n\u001b[1;32m--> 657\u001b[0m     \u001b[38;5;28;01mraise\u001b[39;00m \u001b[38;5;167;01mAssertionError\u001b[39;00m(\n\u001b[0;32m    658\u001b[0m         \u001b[38;5;124m\"\u001b[39m\u001b[38;5;124mView function mapping is overwriting an existing\u001b[39m\u001b[38;5;124m\"\u001b[39m\n\u001b[0;32m    659\u001b[0m         \u001b[38;5;124mf\u001b[39m\u001b[38;5;124m\"\u001b[39m\u001b[38;5;124m endpoint function: \u001b[39m\u001b[38;5;132;01m{\u001b[39;00mendpoint\u001b[38;5;132;01m}\u001b[39;00m\u001b[38;5;124m\"\u001b[39m\n\u001b[0;32m    660\u001b[0m     )\n\u001b[0;32m    661\u001b[0m \u001b[38;5;28mself\u001b[39m\u001b[38;5;241m.\u001b[39mview_functions[endpoint] \u001b[38;5;241m=\u001b[39m view_func\n",
      "\u001b[1;31mAssertionError\u001b[0m: View function mapping is overwriting an existing endpoint function: home"
     ]
    }
   ],
   "source": [
    "from flask import Flask, render_template, request, jsonify\n",
    "import Levenshtein\n",
    "\n",
    "\n",
    "app = Flask(__name__)\n",
    "\n",
    "# Rota para a página inicial (busca)\n",
    "@app.route('/')\n",
    "def home():\n",
    "    return render_template('busca.html')\n",
    "droga = None\n",
    "# Rota para lidar com a busca de antibiótico (POST)\n",
    "@app.route('/busca', methods=['POST'])\n",
    "def busca():\n",
    "    global droga\n",
    "    # Captura o nome do antibiótico enviado via POST\n",
    "    ab_name = request.form.get('ab_name')\n",
    "\n",
    "    if ab_name:\n",
    "        droga  = search(ab_name)\n",
    "        return jsonify({\"message\": f\"Antibiótico buscado: {droga}\"})\n",
    "    else:\n",
    "        return jsonify({\"error\": \"Nome do antibiótico não informado\"}), 400\n",
    "\n",
    "if __name__ == '__main__':\n",
    "    app.run()\n",
    "\n",
    "def search(term):\n",
    "    all_drugs = files['microbiology_events']['ab_name'].dropna().unique()\n",
    "\n",
    "    closest_drug = None\t\n",
    "    for drug in all_drugs:\n",
    "        dist = Levenshtein.distance(term, drug)\n",
    "        if closest_drug is None or dist < closest_drug[1]:\n",
    "            closest_drug = (drug, dist)\n",
    "    return closest_drug\n",
    "\n",
    "# Rota para a página secundaria (resposta)\n",
    "@app.route('/resposta')\n",
    "def home():\n",
    "    global droga\n",
    "    if droga is not None:\n",
    "        return render_template('resposta.html', closest_drug= droga )\n",
    "    \n"
   ]
  },
  {
   "cell_type": "code",
   "execution_count": 14,
   "metadata": {},
   "outputs": [],
   "source": [
    "import pandas as pd\n",
    "mergedata = pd.read_csv('mergedcsv/admin-diag-lab-micro.csv')\n",
    "diagnoses = pd.read_csv('cleanedcsv/prescriptions.csv')\n",
    "\n",
    "\n",
    "#inverter a tabela de diagnósticos para ter uma linha por paciente\n",
    "\n",
    "diaginv = diagnoses.assign(value=1).pivot_table(\n",
    "    index='subject_id', \n",
    "    columns='drug', \n",
    "    values='value', \n",
    "    fill_value=0\n",
    ").reset_index()    # Reset the index to make `subject_id` a column\n",
    "\n",
    "diaginv.fillna(0, inplace=True)\n",
    "\n",
    "# Now proceed with the merge\n",
    "mergedata = mergedata.merge(diaginv, on='subject_id', how='left')\n",
    "mergedata.to_csv('mergedcsv/admin-diag-lab-micro-pat-prescrip.csv', index=False)\n",
    "\n",
    "\n"
   ]
  },
  {
   "cell_type": "markdown",
   "metadata": {},
   "source": [
    "SUGESTAO\n"
   ]
  },
  {
   "cell_type": "code",
   "execution_count": 66,
   "metadata": {},
   "outputs": [],
   "source": [
    "def drug_suggestion(org_name, resistance):\n",
    "    if resistance == 'R':\n",
    "        return \"Sugestão de antibiótico alternativo\"\n",
    "    else:\n",
    "        return \"Sugestão de antibiótico padrão\"\n",
    "\n",
    "merged_data['sugestao'] = merged_data.apply(lambda x: drug_suggestion(x['org_name'], x['interpretation']), axis=1)\n"
   ]
  },
  {
   "cell_type": "markdown",
   "metadata": {},
   "source": [
    "FERRAMENTA VALIDAÇÃO\n"
   ]
  },
  {
   "cell_type": "code",
   "execution_count": null,
   "metadata": {},
   "outputs": [],
   "source": [
    "from sklearn.metrics import accuracy_score\n",
    "\n",
    "# Testar a ferramenta em um conjunto de dados de validação\n",
    "resultados_reais = merged_data1['antibiotico_real']\n",
    "sugestoes = merged_data1['sugestao']\n",
    "\n",
    "acuracia = accuracy_score(resultados_reais, sugestoes)\n",
    "print(f\"Acurácia da ferramenta: {acuracia}\")\n"
   ]
  }
 ],
 "metadata": {
  "kernelspec": {
   "display_name": "Python 3",
   "language": "python",
   "name": "python3"
  },
  "language_info": {
   "codemirror_mode": {
    "name": "ipython",
    "version": 3
   },
   "file_extension": ".py",
   "mimetype": "text/x-python",
   "name": "python",
   "nbconvert_exporter": "python",
   "pygments_lexer": "ipython3",
   "version": "3.12.7"
  }
 },
 "nbformat": 4,
 "nbformat_minor": 2
}
