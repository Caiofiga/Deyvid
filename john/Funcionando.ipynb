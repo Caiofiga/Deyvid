{
 "cells": [
  {
   "cell_type": "code",
   "execution_count": 1,
   "metadata": {
    "executionInfo": {
     "elapsed": 7313,
     "status": "ok",
     "timestamp": 1733311006324,
     "user": {
      "displayName": "JBG _",
      "userId": "06295517093439913628"
     },
     "user_tz": 180
    },
    "id": "Z9zu8-OEYoiw"
   },
   "outputs": [],
   "source": [
    "import numpy as np\n",
    "import pandas as pd\n",
    "from scipy import stats\n",
    "import matplotlib.pyplot as plt"
   ]
  },
  {
   "cell_type": "code",
   "execution_count": 3,
   "metadata": {
    "colab": {
     "base_uri": "https://localhost:8080/"
    },
    "executionInfo": {
     "elapsed": 228,
     "status": "ok",
     "timestamp": 1733311009145,
     "user": {
      "displayName": "JBG _",
      "userId": "06295517093439913628"
     },
     "user_tz": 180
    },
    "id": "VLQOpxFwYoi2",
    "outputId": "1b0ea08b-4469-46df-856c-3abd74140eb8"
   },
   "outputs": [
    {
     "name": "stdout",
     "output_type": "stream",
     "text": [
      "Erro ao carregar o arquivo: [Errno 2] No such file or directory: 'C:/Users/joaob/OneDrive/Área de Trabalho/Relatorios MecSol/Ensaios Lab 2/Dados Nylon/NYLON 70_2_2.csv'\n",
      "Erro ao carregar os dados.\n"
     ]
    }
   ],
   "source": [
    "\n",
    "# Função para carregar o arquivo CSV\n",
    "def load_data(file_path):\n",
    "    try:\n",
    "        # Lê o arquivo a partir da terceira linha (pulando as duas primeiras)\n",
    "        df = pd.read_csv(\n",
    "            file_path,\n",
    "            delimiter=';',\n",
    "            decimal=',',\n",
    "            skipinitialspace=True,\n",
    "            encoding='ISO-8859-1',\n",
    "            skiprows=1  # Ignorar as 2 primeiras linhas\n",
    "        )\n",
    "\n",
    "        # Verificar se o número de colunas bate com a renomeação\n",
    "        if len(df.columns) == 4:  # Substitua pelo número esperado de colunas\n",
    "            df.columns = [\n",
    "                'Tempo (s)', 'Deslocamento (mm)', 'Força (kN)',\n",
    "                'Tensão à flexão (MPa)'\n",
    "            ]\n",
    "        else:\n",
    "            print(\"Número de colunas no CSV não corresponde ao esperado.\")\n",
    "            print(f\"Colunas encontradas: {df.columns}\")\n",
    "            return None\n",
    "\n",
    "        # Converte apenas as colunas numéricas para float\n",
    "        colunas_numericas = [\n",
    "            'Tempo (s)', 'Deslocamento (mm)', 'Força (kN)',\n",
    "            'Tensão à flexão (MPa)'\n",
    "        ]\n",
    "\n",
    "        for col in colunas_numericas:\n",
    "            if col in df.columns:  # Verifica se a coluna existe antes de processar\n",
    "                # Verifica se a coluna é do tipo 'object' (string) antes de usar .str.replace\n",
    "                if df[col].dtype == 'object':\n",
    "                    df[col] = df[col].str.replace(',', '.', regex=False)\n",
    "                # Converte para numérico\n",
    "                df[col] = pd.to_numeric(df[col], errors='coerce')\n",
    "\n",
    "        return df\n",
    "\n",
    "    except Exception as e:\n",
    "        print(f\"Erro ao carregar o arquivo: {e}\")\n",
    "        return None\n",
    "\n",
    "# Caminho para o arquivo CSV\n",
    "file_path = r'C:/Users/joaob/OneDrive/Área de Trabalho/Relatorios MecSol/Ensaios Lab 2/Dados Nylon/NYLON 70_2_2.csv'\n",
    "# Carregar os dados\n",
    "df = load_data(file_path)\n",
    "\n",
    "# Ver os primeiros registros para conferir\n",
    "if df is not None:\n",
    "    print(df.head())\n",
    "else:\n",
    "    print(\"Erro ao carregar os dados.\")\n"
   ]
  },
  {
   "cell_type": "code",
   "execution_count": 3,
   "metadata": {
    "colab": {
     "base_uri": "https://localhost:8080/",
     "height": 141
    },
    "executionInfo": {
     "elapsed": 234,
     "status": "error",
     "timestamp": 1733311097915,
     "user": {
      "displayName": "JBG _",
      "userId": "06295517093439913628"
     },
     "user_tz": 180
    },
    "id": "dR4WjRRaYoi5",
    "outputId": "785dd9c6-9b18-4ec4-bc7d-cc92cfbc316e"
   },
   "outputs": [
    {
     "ename": "TypeError",
     "evalue": "'NoneType' object is not subscriptable",
     "output_type": "error",
     "traceback": [
      "\u001b[0;31m---------------------------------------------------------------------------\u001b[0m",
      "\u001b[0;31mTypeError\u001b[0m                                 Traceback (most recent call last)",
      "\u001b[0;32m<ipython-input-3-72b30ddddd6a>\u001b[0m in \u001b[0;36m<cell line: 1>\u001b[0;34m()\u001b[0m\n\u001b[0;32m----> 1\u001b[0;31m \u001b[0mdf\u001b[0m\u001b[0;34m[\u001b[0m\u001b[0;34m'Deformação (%)'\u001b[0m\u001b[0;34m]\u001b[0m \u001b[0;34m=\u001b[0m \u001b[0;34m(\u001b[0m\u001b[0mdf\u001b[0m\u001b[0;34m[\u001b[0m\u001b[0;34m'Deslocamento (mm)'\u001b[0m\u001b[0;34m]\u001b[0m \u001b[0;34m/\u001b[0m \u001b[0;36m101.15\u001b[0m\u001b[0;34m)\u001b[0m \u001b[0;34m*\u001b[0m \u001b[0;36m100\u001b[0m\u001b[0;34m\u001b[0m\u001b[0;34m\u001b[0m\u001b[0m\n\u001b[0m",
      "\u001b[0;31mTypeError\u001b[0m: 'NoneType' object is not subscriptable"
     ]
    }
   ],
   "source": [
    "df['Deformação (%)'] = (df['Deslocamento (mm)'] / 101.15) * 100"
   ]
  },
  {
   "cell_type": "code",
   "execution_count": 4,
   "metadata": {
    "executionInfo": {
     "elapsed": 232,
     "status": "ok",
     "timestamp": 1733311100768,
     "user": {
      "displayName": "JBG _",
      "userId": "06295517093439913628"
     },
     "user_tz": 180
    },
    "id": "h-0gDDVdYoi5"
   },
   "outputs": [],
   "source": [
    "df"
   ]
  },
  {
   "cell_type": "code",
   "execution_count": null,
   "metadata": {
    "id": "qYN2oRUNYoi6",
    "outputId": "e2a92f17-ca4a-4112-deed-65016d1d33e1"
   },
   "outputs": [
    {
     "name": "stdout",
     "output_type": "stream",
     "text": [
      "Módulo de Elasticidade (dinâmico): 749.47 MPa\n"
     ]
    }
   ],
   "source": [
    "from scipy import stats\n",
    "\n",
    "def calc_modulo_elasticidade_dinamico(df, limite_erro=0.01): #como entrada um DataFrame df e um limite_erro, que determina quão próximo da linearidade os dados devem estar.\n",
    "    # Filtra valores de tensão positivos\n",
    "    filtro = df[df['Tensão à flexão (MPa)'] > 0]\n",
    "\n",
    "    # Inicializa variáveis\n",
    "    n_max = len(filtro)\n",
    "    modulo_elasticidade = np.nan\n",
    "\n",
    "    for n in range(2, n_max):  # Começar com 2 pontos\n",
    "        tensao = filtro['Tensão à flexão (MPa)'].iloc[:n].values      #Para cada iteração do loop, os dados de tensão e deformação são extraídos até o índice n. A deformação é convertida de porcentagem para fração dividindo por 100.\n",
    "        deformacao = filtro['Deformação (%)'].iloc[:n].values / 100\n",
    "\n",
    "        # Verifica se todos os valores de deformação ou tensão são iguais\n",
    "        if np.all(deformacao == deformacao[0]) or np.all(tensao == tensao[0]):\n",
    "            continue  # Ignora este conjunto e passa para o próximo\n",
    "\n",
    "        # Realiza a regressão linear\n",
    "        slope, intercept, r_value, p_value, std_err = stats.linregress(deformacao, tensao) #Realiza a regressão linear nos dados de tensão e deformação.\n",
    "                                                                                           #slope representa o coeficiente angular da linha de melhor ajuste,\n",
    "                                                                                           # que é o que queremos calcular como o módulo de elasticidade.\n",
    "\n",
    "        # Prediz a tensão usando a linha de melhor ajuste\n",
    "        tensao_predita = slope * deformacao + intercept\n",
    "\n",
    "        # Prediz os valores de tensão com base na linha de melhor ajuste e calcula o Erro Quadrático Médio (EQM) entre os valores reais e os preditos.\n",
    "        eqm = np.mean((tensao - tensao_predita) ** 2)\n",
    "\n",
    "\n",
    "#Se o EQM for menor que o limite definido, atualiza modulo_elasticidade com o valor do coeficiente angular (slope).\n",
    "        # Verifica se o EQM é menor que o limite\n",
    "        if eqm < limite_erro:\n",
    "            modulo_elasticidade = slope  # O coeficiente angular é o módulo de elasticidade\n",
    "        else:\n",
    "            break  # Sai do loop se a linearidade não se mantiver\n",
    "\n",
    "    return modulo_elasticidade\n",
    "\n",
    "# Exemplo de uso\n",
    "modulo_elasticidade_dinamico = calc_modulo_elasticidade_dinamico(df)\n",
    "\n",
    "if not np.isnan(modulo_elasticidade_dinamico):\n",
    "    print(f\"Módulo de Elasticidade (dinâmico): {modulo_elasticidade_dinamico:.2f} MPa\")\n",
    "else:\n",
    "    print(\"Não foi possível calcular o módulo de elasticidade.\")"
   ]
  },
  {
   "cell_type": "code",
   "execution_count": 5,
   "metadata": {
    "colab": {
     "base_uri": "https://localhost:8080/",
     "height": 211
    },
    "executionInfo": {
     "elapsed": 217,
     "status": "error",
     "timestamp": 1733311106497,
     "user": {
      "displayName": "JBG _",
      "userId": "06295517093439913628"
     },
     "user_tz": 180
    },
    "id": "wRPXdWVpYoi7",
    "outputId": "7a36b658-917e-4557-ca91-08fa3421689d"
   },
   "outputs": [
    {
     "ename": "TypeError",
     "evalue": "'NoneType' object is not subscriptable",
     "output_type": "error",
     "traceback": [
      "\u001b[0;31m---------------------------------------------------------------------------\u001b[0m",
      "\u001b[0;31mTypeError\u001b[0m                                 Traceback (most recent call last)",
      "\u001b[0;32m<ipython-input-5-d2e545f738ec>\u001b[0m in \u001b[0;36m<cell line: 2>\u001b[0;34m()\u001b[0m\n\u001b[1;32m      1\u001b[0m \u001b[0;31m# Cálculo da Resistência Máxima\u001b[0m\u001b[0;34m\u001b[0m\u001b[0;34m\u001b[0m\u001b[0m\n\u001b[0;32m----> 2\u001b[0;31m \u001b[0mresistencia_maxima\u001b[0m \u001b[0;34m=\u001b[0m \u001b[0mdf\u001b[0m\u001b[0;34m[\u001b[0m\u001b[0;34m'Tensão à flexão (MPa)'\u001b[0m\u001b[0;34m]\u001b[0m\u001b[0;34m.\u001b[0m\u001b[0mmax\u001b[0m\u001b[0;34m(\u001b[0m\u001b[0;34m)\u001b[0m\u001b[0;34m\u001b[0m\u001b[0;34m\u001b[0m\u001b[0m\n\u001b[0m\u001b[1;32m      3\u001b[0m \u001b[0;34m\u001b[0m\u001b[0m\n\u001b[1;32m      4\u001b[0m \u001b[0;31m# Cálculo da Deformação na Resistência Máxima\u001b[0m\u001b[0;34m\u001b[0m\u001b[0;34m\u001b[0m\u001b[0m\n\u001b[1;32m      5\u001b[0m \u001b[0mdeformacao_resistencia_maxima\u001b[0m \u001b[0;34m=\u001b[0m \u001b[0mdf\u001b[0m\u001b[0;34m.\u001b[0m\u001b[0mloc\u001b[0m\u001b[0;34m[\u001b[0m\u001b[0mdf\u001b[0m\u001b[0;34m[\u001b[0m\u001b[0;34m'Tensão à flexão (MPa)'\u001b[0m\u001b[0;34m]\u001b[0m\u001b[0;34m.\u001b[0m\u001b[0midxmax\u001b[0m\u001b[0;34m(\u001b[0m\u001b[0;34m)\u001b[0m\u001b[0;34m,\u001b[0m \u001b[0;34m'Deformação (%)'\u001b[0m\u001b[0;34m]\u001b[0m\u001b[0;34m\u001b[0m\u001b[0;34m\u001b[0m\u001b[0m\n",
      "\u001b[0;31mTypeError\u001b[0m: 'NoneType' object is not subscriptable"
     ]
    }
   ],
   "source": [
    "\n",
    "# Cálculo da Resistência Máxima\n",
    "resistencia_maxima = df['Tensão à flexão (MPa)'].max()\n",
    "\n",
    "# Cálculo da Deformação na Resistência Máxima\n",
    "deformacao_resistencia_maxima = df.loc[df['Tensão à flexão (MPa)'].idxmax(), 'Deformação (%)']\n",
    "\n",
    "# Cálculo da Deformação na Resistência Máxima em mm\n",
    "deformacao_resistencia_maxima_mm = (deformacao_resistencia_maxima / 100) * 100.68 #Colocar  h\n",
    "\n",
    "# Cálculo da Resistência na Ruptura\n",
    "resistencia_na_ruptura = df['Tensão à flexão (MPa)'].iloc[-1]\n",
    "\n",
    "# Cálculo da Deformação na Ruptura em mm\n",
    "deformacao_na_ruptura = df['Deslocamento (mm)'].iloc[-1]\n",
    "\n",
    "# Exibindo os resultados\n",
    "print(f\"Resistência Máxima: {resistencia_maxima} MPa\")\n",
    "print(f\"Deformação na Resistência Máxima: {deformacao_resistencia_maxima} %\")\n",
    "print(f\"Deformação na Resistência Máxima (mm): {deformacao_resistencia_maxima_mm:.2f} mm\")\n",
    "print(f\"Resistência na Ruptura: {resistencia_na_ruptura} MPa\")\n",
    "print(f\"Deformação na Ruptura (mm): {deformacao_na_ruptura:.2f} mm\")\n"
   ]
  }
 ],
 "metadata": {
  "colab": {
   "provenance": []
  },
  "kernelspec": {
   "display_name": "Python 3",
   "language": "python",
   "name": "python3"
  },
  "language_info": {
   "codemirror_mode": {
    "name": "ipython",
    "version": 3
   },
   "file_extension": ".py",
   "mimetype": "text/x-python",
   "name": "python",
   "nbconvert_exporter": "python",
   "pygments_lexer": "ipython3",
   "version": "3.12.2"
  }
 },
 "nbformat": 4,
 "nbformat_minor": 0
}
