{
 "cells": [
  {
   "cell_type": "markdown",
   "metadata": {},
   "source": [
    "importacao de biblioticas"
   ]
  },
  {
   "cell_type": "code",
   "execution_count": 1,
   "metadata": {},
   "outputs": [],
   "source": [
    "import pandas as pd\n",
    "import numpy as np\n",
    "import plotly.express as px\n",
    "\n"
   ]
  },
  {
   "cell_type": "markdown",
   "metadata": {},
   "source": [
    "Importacao e limpeza de dados"
   ]
  },
  {
   "cell_type": "code",
   "execution_count": 6,
   "metadata": {},
   "outputs": [],
   "source": [
    "\n",
    "pla_fib_1 = pd.read_csv('PLA FIBRA DE CARBONO/PLA FIBRA DE CARBONO_1.csv', encoding='ISO-8859-1', delimiter=';')    \n",
    "pla_fib_2 = pd.read_csv('PLA FIBRA DE CARBONO/PLA FIBRA DE CARBONO_2.csv', encoding='ISO-8859-1', delimiter=';') \n",
    "pla_fib_3 = pd.read_csv('PLA FIBRA DE CARBONO/PLA FIBRA DE CARBONO_3.csv', encoding='ISO-8859-1', delimiter=';') \n",
    "pla_fib_4 = pd.read_csv('PLA FIBRA DE CARBONO/PLA FIBRA DE CARBONO_4.csv', encoding='ISO-8859-1', delimiter=';') \n",
    "\n",
    "pla_norm_1 = pd.read_csv('PLA NORMAL/PLA NORMAL_1_1.csv', encoding='utf-8', delimiter=';', skip_blank_lines=True)    \n",
    "pla_norm_2 = pd.read_csv('PLA NORMAL/PLA NORMAL_2_1.csv', encoding='utf-8', delimiter=';', skip_blank_lines=True) \n",
    "pla_norm_3 = pd.read_csv('PLA NORMAL/PLA NORMAL_3_1.csv', encoding='utf-8', delimiter=';', skip_blank_lines=True) \n",
    "pla_norm_4 = pd.read_csv('PLA NORMAL/PLA NORMAL_4_1.csv', encoding='utf-8', delimiter=';', skip_blank_lines=True) \n",
    "\n",
    "pla_fibs = [pla_fib_1, pla_fib_2, pla_fib_3, pla_fib_4]\n",
    "pla_norms = [pla_norm_1, pla_norm_2, pla_norm_3, pla_norm_4]\n",
    "\n",
    "\n",
    "for i in range(len(pla_fibs)):\n",
    "    pla_fibs[i] = pla_fibs[i].drop(0)\n",
    "    pla_fibs[i] = pla_fibs[i].map(lambda x: x.replace(',', '.').replace('\"', '') if isinstance(x, str) else x)\n",
    "    pla_fibs[i] = pla_fibs[i].astype(float)\n",
    "\n",
    "for i in range(len(pla_norms)):\n",
    "    pla_norms[i] = pla_norms[i].drop(0)\n",
    "    pla_norms[i] = pla_norms[i].map(lambda x: x.replace(',', '.').replace('\"', '') if isinstance(x, str) else x)\n",
    "    pla_norms[i] = pla_norms[i].astype(float)\n",
    "\n",
    "\n",
    "\n"
   ]
  },
  {
   "cell_type": "markdown",
   "metadata": {},
   "source": [
    "Geracao de dados importantes"
   ]
  },
  {
   "cell_type": "code",
   "execution_count": null,
   "metadata": {},
   "outputs": [],
   "source": [
    "for i in range(len(pla_norms)):\n",
    "\n",
    "    tensao = pla_fibs[i]['Tensão à tração']\n",
    "    deformacao = pla_fibs[i]['Deformação à tração (Deslocamento)']\n",
    "\n",
    "    linear_region = pla_fibs[i][pla_fibs[i]['Deformação à tração (Deslocamento)'] < 0.02]\n",
    "    delta_tension = pla_fibs[i]['Tensão à tração'].iloc[-1] - pla_fibs[i]['Tensão à tração'].iloc[0]\n",
    "    delta_strain = pla_fibs[i]['Deformação à tração (Deslocamento)'].iloc[-1] - pla_fibs[i]['Deformação à tração (Deslocamento)'].iloc[0]\n",
    "    modulo_elasticidade = delta_tension / delta_strain\n",
    "\n",
    "    resistencia_maxima = tensao.max()\n",
    "\n",
    "    deformacao_maxima = deformacao[tensao.idxmax()]\n",
    "\n",
    "    resistencia_ruptura = tensao.iloc[-1]\n",
    "\n",
    "    deformacao_ruptura = deformacao.iloc[-1]\n",
    "\n",
    "    tenacidade = np.trapz(tensao, deformacao)\n",
    "\n",
    "    print(f\"Sample {i+1}:\")\n",
    "    print(f\" - Módulo de Elasticidade: {modulo_elasticidade:.2f} MPa\")\n",
    "    print(f\" - Resistência Máxima: {resistencia_maxima:.2f} MPa\")\n",
    "    print(f\" - Deformação na Resistência Máxima: {deformacao_maxima:.4f}\")\n",
    "    print(f\" - Resistência na Ruptura: {resistencia_ruptura:.2f} MPa\")\n",
    "    print(f\" - Deformação na Ruptura: {deformacao_ruptura:.4f}\")\n",
    "    print(f\" - Tenacidade: {tenacidade:.2f} J/m³\")\n",
    "    print(\"-\" * 40)"
   ]
  },
  {
   "cell_type": "markdown",
   "metadata": {},
   "source": [
    "Plotagem dos graficos"
   ]
  },
  {
   "cell_type": "code",
   "execution_count": null,
   "metadata": {},
   "outputs": [],
   "source": [
    "import matplotlib.pyplot as plt\n",
    "for i in range(len(pla_fibs)):\n",
    "    plt.figure(figsize=(8, 6))\n",
    "    plt.plot(pla_fibs[i]['Deformação à tração (Deslocamento)'], pla_fibs[i]['Tensão à tração'], label='Tensão vs Deformação', color='b')\n",
    "#para o desvio padrao\n",
    "    std_dev = np.std(pla_fibs[i]['Tensão à tração'])\n",
    "    plt.fill_between(pla_fibs[i]['Deformação à tração (Deslocamento)'],\n",
    "                    pla_fibs[i]['Tensão à tração'] - std_dev,\n",
    "                    pla_fibs[i]['Tensão à tração'] + std_dev,\n",
    "                    color='b', alpha=0.2, label=f'Std. Dev: {std_dev:.2f}')\n",
    "\n",
    "#para a reta tangente\n",
    "#y - yo = m(x -xo)\n",
    "reta_tg = pla_fibs[i]['Deformação à tração (Deslocamento)']\n",
    "    # Add labels, grid, title, and legend\n",
    "    plt.xlabel('Deformação à tração (%)')\n",
    "    plt.ylabel('Tensão à tração (MPa)')\n",
    "    plt.title(f'Tensão vs Deformação: {i + 1}')\n",
    "    plt.grid(True)\n",
    "    plt.legend()\n",
    "    plt.savefig(f'PLA FIBRA DE CARBONO/PLA FIBRA DE CARBONO_{i + 1}.png')\n",
    "    \n",
    "for i in range(len(pla_norms)):\n",
    "    plt.figure(figsize=(8, 6))\n",
    "    plt.plot(pla_norms[i]['Deformação à tração (Deslocamento)'], pla_norms[i]['Tensão à tração'], label='Tensão vs Deformação', color='b')\n",
    "\n",
    "\n",
    "    std_dev = np.std(pla_norms[i]['Tensão à tração'])\n",
    "    plt.fill_between(pla_norms[i]['Deformação à tração (Deslocamento)'],\n",
    "                    pla_norms[i]['Tensão à tração'] - std_dev,\n",
    "                    pla_norms[i]['Tensão à tração'] + std_dev,\n",
    "                    color='b', alpha=0.2, label=f'Std. Dev: {std_dev:.2f}')\n",
    "    \n",
    "    plt.xlabel('Deformação à tração (%)')\n",
    "    plt.ylabel('Tensão à tração (MPa)')\n",
    "    plt.title(f'Tensão vs Deformação: PLA_NORMAL_{i + 1}')\n",
    "    plt.grid(True)\n",
    "    plt.legend()\n",
    "    plt.savefig(f'PLA NORMAL/PLA NORMAL_{i + 1}.png')"
   ]
  }
 ],
 "metadata": {
  "kernelspec": {
   "display_name": ".venv",
   "language": "python",
   "name": "python3"
  },
  "language_info": {
   "codemirror_mode": {
    "name": "ipython",
    "version": 3
   },
   "file_extension": ".py",
   "mimetype": "text/x-python",
   "name": "python",
   "nbconvert_exporter": "python",
   "pygments_lexer": "ipython3",
   "version": "3.11.4"
  }
 },
 "nbformat": 4,
 "nbformat_minor": 2
}
